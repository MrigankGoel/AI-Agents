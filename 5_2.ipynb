{
 "cells": [
  {
   "cell_type": "code",
   "execution_count": 7,
   "id": "65d06c5c",
   "metadata": {},
   "outputs": [],
   "source": [
    "# import torch.nn as nn\n",
    "\n",
    "\n",
    "# class Model(nn.Module):\n",
    "#     def __init__(self, num_features):\n",
    "#         super().__init__()\n",
    "#         self.linear1 = nn.Linear(num_features, 3)\n",
    "#         self.relu = nn.ReLU()\n",
    "#         self.linear2 = nn.Linear(3, 1)\n",
    "#         self.sigmoid = nn.Sigmoid()\n",
    "\n",
    "#     def forward(self, features):\n",
    "#         return self.sigmoid(self.linear2(self.relu(self.linear1(features))))\n",
    "\n",
    "import torch.nn as nn\n",
    "\n",
    "\n",
    "class Model(nn.Module):\n",
    "    def __init__(self, num_features):\n",
    "        super().__init__()\n",
    "        self.network = nn.Sequential(\n",
    "            nn.Linear(num_features, 3),\n",
    "            nn.ReLU(),\n",
    "            nn.Linear(3, 1),\n",
    "            nn.Sigmoid()\n",
    "        )\n",
    "\n",
    "    def forward(self, features):\n",
    "        return self.network(features)"
   ]
  },
  {
   "cell_type": "code",
   "execution_count": 8,
   "id": "fa4e51a6",
   "metadata": {},
   "outputs": [
    {
     "data": {
      "text/plain": [
       "tensor([[0.4388],\n",
       "        [0.4394],\n",
       "        [0.4340],\n",
       "        [0.4410],\n",
       "        [0.4375],\n",
       "        [0.4356],\n",
       "        [0.4286],\n",
       "        [0.4286],\n",
       "        [0.4314],\n",
       "        [0.4387]], grad_fn=<SigmoidBackward0>)"
      ]
     },
     "execution_count": 8,
     "metadata": {},
     "output_type": "execute_result"
    }
   ],
   "source": [
    "import torch\n",
    "\n",
    "\n",
    "features = torch.rand(10, 5)\n",
    "\n",
    "model = Model(features.shape[1])\n",
    "model(features)"
   ]
  },
  {
   "cell_type": "code",
   "execution_count": null,
   "id": "d46991f4",
   "metadata": {},
   "outputs": [
    {
     "data": {
      "text/plain": [
       "(Parameter containing:\n",
       " tensor([[-0.2739, -0.3399,  0.0110, -0.2366,  0.2039],\n",
       "         [-0.4260,  0.2939,  0.4158,  0.3096, -0.1127],\n",
       "         [-0.0049, -0.2293,  0.2010, -0.3593,  0.4024]], requires_grad=True),\n",
       " Parameter containing:\n",
       " tensor([-0.1009,  0.4108,  0.3987], requires_grad=True),\n",
       " Parameter containing:\n",
       " tensor([[-0.0402,  0.1709,  0.2625]], requires_grad=True),\n",
       " Parameter containing:\n",
       " tensor([0.3930], requires_grad=True))"
      ]
     },
     "execution_count": 4,
     "metadata": {},
     "output_type": "execute_result"
    }
   ],
   "source": [
    "# model.linear1.weight, model.linear1.bias, model.linear2.weight, model.linear2.bias"
   ]
  },
  {
   "cell_type": "code",
   "execution_count": 9,
   "id": "9d9ca31b",
   "metadata": {},
   "outputs": [
    {
     "data": {
      "text/plain": [
       "==========================================================================================\n",
       "Layer (type:depth-idx)                   Output Shape              Param #\n",
       "==========================================================================================\n",
       "Model                                    [10, 1]                   --\n",
       "├─Sequential: 1-1                        [10, 1]                   --\n",
       "│    └─Linear: 2-1                       [10, 3]                   18\n",
       "│    └─ReLU: 2-2                         [10, 3]                   --\n",
       "│    └─Linear: 2-3                       [10, 1]                   4\n",
       "│    └─Sigmoid: 2-4                      [10, 1]                   --\n",
       "==========================================================================================\n",
       "Total params: 22\n",
       "Trainable params: 22\n",
       "Non-trainable params: 0\n",
       "Total mult-adds (M): 0.00\n",
       "==========================================================================================\n",
       "Input size (MB): 0.00\n",
       "Forward/backward pass size (MB): 0.00\n",
       "Params size (MB): 0.00\n",
       "Estimated Total Size (MB): 0.00\n",
       "=========================================================================================="
      ]
     },
     "execution_count": 9,
     "metadata": {},
     "output_type": "execute_result"
    }
   ],
   "source": [
    "from torchinfo import summary\n",
    "\n",
    "\n",
    "summary(model, input_size=(10 ,5))"
   ]
  },
  {
   "cell_type": "code",
   "execution_count": null,
   "id": "4bf27265",
   "metadata": {},
   "outputs": [],
   "source": []
  }
 ],
 "metadata": {
  "kernelspec": {
   "display_name": ".venv",
   "language": "python",
   "name": "python3"
  },
  "language_info": {
   "codemirror_mode": {
    "name": "ipython",
    "version": 3
   },
   "file_extension": ".py",
   "mimetype": "text/x-python",
   "name": "python",
   "nbconvert_exporter": "python",
   "pygments_lexer": "ipython3",
   "version": "3.10.10"
  }
 },
 "nbformat": 4,
 "nbformat_minor": 5
}

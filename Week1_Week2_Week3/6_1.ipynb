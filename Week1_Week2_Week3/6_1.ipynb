{
 "cells": [
  {
   "cell_type": "code",
   "execution_count": 2,
   "id": "d02da74e",
   "metadata": {},
   "outputs": [
    {
     "data": {
      "text/plain": [
       "(array([[ 1.06833894, -0.97007347],\n",
       "        [-1.14021544, -0.83879234],\n",
       "        [-2.8953973 ,  1.97686236],\n",
       "        [-0.72063436, -0.96059253],\n",
       "        [-1.96287438, -0.99225135],\n",
       "        [-0.9382051 , -0.54304815],\n",
       "        [ 1.72725924, -1.18582677],\n",
       "        [ 1.77736657,  1.51157598],\n",
       "        [ 1.89969252,  0.83444483],\n",
       "        [-0.58723065, -1.97171753]]),\n",
       " (10, 2),\n",
       " array([1, 0, 0, 0, 0, 1, 1, 1, 1, 0]))"
      ]
     },
     "execution_count": 2,
     "metadata": {},
     "output_type": "execute_result"
    }
   ],
   "source": [
    "from sklearn.datasets import make_classification\n",
    "\n",
    "\n",
    "X, y = make_classification(\n",
    "    n_samples=10,\n",
    "    n_features=2,\n",
    "    n_informative=2,\n",
    "    n_redundant=0,\n",
    "    n_classes=2,\n",
    "    random_state=42,\n",
    ")\n",
    "\n",
    "X, X.shape, y"
   ]
  },
  {
   "cell_type": "code",
   "execution_count": 3,
   "id": "f1a5ecb1",
   "metadata": {},
   "outputs": [],
   "source": [
    "import torch\n",
    "\n",
    "\n",
    "X = torch.tensor(X, dtype=torch.float32)\n",
    "y = torch.tensor(y, dtype=torch.long)"
   ]
  },
  {
   "cell_type": "code",
   "execution_count": null,
   "id": "9f7224c7",
   "metadata": {},
   "outputs": [],
   "source": [
    "from torch.utils.data import Dataset, DataLoader\n",
    "\n",
    "\n",
    "class CustomDataset(Dataset):\n",
    "    def __init__(self, features, labels):\n",
    "        self.features = features\n",
    "        self.labels = labels\n",
    "\n",
    "    def __len__(self):\n",
    "        return self.features.shape[0]\n",
    "\n",
    "    def __getitem__(self, idx):\n",
    "        # transformations possible\n",
    "        return self.features[idx], self.labels[idx]"
   ]
  },
  {
   "cell_type": "code",
   "execution_count": 5,
   "id": "866de7ac",
   "metadata": {},
   "outputs": [
    {
     "data": {
      "text/plain": [
       "(10, (tensor([-1.1402, -0.8388]), tensor(0)))"
      ]
     },
     "execution_count": 5,
     "metadata": {},
     "output_type": "execute_result"
    }
   ],
   "source": [
    "dataset = CustomDataset(X, y)\n",
    "len(dataset), dataset[1]"
   ]
  },
  {
   "cell_type": "code",
   "execution_count": 21,
   "id": "5e4d8899",
   "metadata": {},
   "outputs": [
    {
     "name": "stdout",
     "output_type": "stream",
     "text": [
      "tensor([[-2.8954,  1.9769],\n",
      "        [-0.5872, -1.9717]])\n",
      "tensor([0, 0])\n",
      "--------------------------------------------------\n",
      "tensor([[-0.7206, -0.9606],\n",
      "        [ 1.7273, -1.1858]])\n",
      "tensor([0, 1])\n",
      "--------------------------------------------------\n",
      "tensor([[-0.9382, -0.5430],\n",
      "        [ 1.0683, -0.9701]])\n",
      "tensor([1, 1])\n",
      "--------------------------------------------------\n",
      "tensor([[-1.1402, -0.8388],\n",
      "        [ 1.8997,  0.8344]])\n",
      "tensor([0, 1])\n",
      "--------------------------------------------------\n",
      "tensor([[-1.9629, -0.9923],\n",
      "        [ 1.7774,  1.5116]])\n",
      "tensor([0, 1])\n",
      "--------------------------------------------------\n"
     ]
    }
   ],
   "source": [
    "dataloader = DataLoader(dataset, batch_size=2, shuffle=True)\n",
    "for batch_features, batch_labels in dataloader:\n",
    "    print(batch_features, batch_labels, sep='\\n')\n",
    "    print('-'*50)"
   ]
  },
  {
   "cell_type": "code",
   "execution_count": null,
   "id": "1faec343",
   "metadata": {},
   "outputs": [],
   "source": []
  }
 ],
 "metadata": {
  "kernelspec": {
   "display_name": ".venv",
   "language": "python",
   "name": "python3"
  },
  "language_info": {
   "codemirror_mode": {
    "name": "ipython",
    "version": 3
   },
   "file_extension": ".py",
   "mimetype": "text/x-python",
   "name": "python",
   "nbconvert_exporter": "python",
   "pygments_lexer": "ipython3",
   "version": "3.10.10"
  }
 },
 "nbformat": 4,
 "nbformat_minor": 5
}

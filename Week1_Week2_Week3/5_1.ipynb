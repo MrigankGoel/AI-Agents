{
 "cells": [
  {
   "cell_type": "code",
   "execution_count": 11,
   "id": "6d26f14c",
   "metadata": {},
   "outputs": [],
   "source": [
    "import torch.nn as nn\n",
    "\n",
    "\n",
    "class Model(nn.Module):\n",
    "    def __init__(self, num_features):\n",
    "        super().__init__()\n",
    "        self.linear = nn.Linear(num_features, 1)\n",
    "        self.sigmoid = nn.Sigmoid()\n",
    "    \n",
    "    def forward(self, features):\n",
    "        return self.sigmoid(self.linear(features))\n",
    "        \n",
    "    # def forward1(self, features):\n",
    "    #     return self.sigmoid(self.linear(features) * 2)\n"
   ]
  },
  {
   "cell_type": "code",
   "execution_count": 12,
   "id": "e013e024",
   "metadata": {},
   "outputs": [],
   "source": [
    "# PyTorch’s __call__ Mechanism: When you call model(features), PyTorch’s nn.Module.__call__ method looks for a \n",
    "# method named forward in your class to execute the forward pass. It does not look for forward1 or any other method.\n",
    "\n",
    "# Missing forward Method: If the forward method is not defined, PyTorch \n",
    "# cannot find it, and you’ll get an AttributeError like the one above.\n",
    "\n",
    "# Explicit forward1 Call: Calling model.forward1(features) works because it’s just a regular \n",
    "# method call, and forward1 exists in your class. However, it’s not tied to PyTorch’s __call__ \n",
    "# mechanism, so it doesn’t benefit from features like hooks or mode handling."
   ]
  },
  {
   "cell_type": "code",
   "execution_count": 13,
   "id": "d9fb27ac",
   "metadata": {},
   "outputs": [
    {
     "data": {
      "text/plain": [
       "tensor([[0.4339],\n",
       "        [0.4454],\n",
       "        [0.4361],\n",
       "        [0.4234],\n",
       "        [0.4637],\n",
       "        [0.4581],\n",
       "        [0.5004],\n",
       "        [0.4250],\n",
       "        [0.3825],\n",
       "        [0.4250]], grad_fn=<SigmoidBackward0>)"
      ]
     },
     "execution_count": 13,
     "metadata": {},
     "output_type": "execute_result"
    }
   ],
   "source": [
    "import torch\n",
    "\n",
    "\n",
    "features = torch.rand(10, 5)\n",
    "model = Model(features.shape[1])\n",
    "# model.forward(features)\n",
    "model(features) \t        # prefer this method"
   ]
  },
  {
   "cell_type": "code",
   "execution_count": 16,
   "id": "6fb0e529",
   "metadata": {},
   "outputs": [
    {
     "data": {
      "text/plain": [
       "(Parameter containing:\n",
       " tensor([[-0.0368, -0.2205, -0.2299, -0.2194, -0.3038]], requires_grad=True),\n",
       " Parameter containing:\n",
       " tensor([0.2656], requires_grad=True))"
      ]
     },
     "execution_count": 16,
     "metadata": {},
     "output_type": "execute_result"
    }
   ],
   "source": [
    "model.linear.weight, model.linear.bias"
   ]
  },
  {
   "cell_type": "code",
   "execution_count": 17,
   "id": "aa84abfc",
   "metadata": {},
   "outputs": [
    {
     "data": {
      "text/plain": [
       "==========================================================================================\n",
       "Layer (type:depth-idx)                   Output Shape              Param #\n",
       "==========================================================================================\n",
       "Model                                    [10, 1]                   --\n",
       "├─Linear: 1-1                            [10, 1]                   6\n",
       "├─Sigmoid: 1-2                           [10, 1]                   --\n",
       "==========================================================================================\n",
       "Total params: 6\n",
       "Trainable params: 6\n",
       "Non-trainable params: 0\n",
       "Total mult-adds (M): 0.00\n",
       "==========================================================================================\n",
       "Input size (MB): 0.00\n",
       "Forward/backward pass size (MB): 0.00\n",
       "Params size (MB): 0.00\n",
       "Estimated Total Size (MB): 0.00\n",
       "=========================================================================================="
      ]
     },
     "execution_count": 17,
     "metadata": {},
     "output_type": "execute_result"
    }
   ],
   "source": [
    "from torchinfo import summary\n",
    "summary(model, input_size=(10, 5))"
   ]
  },
  {
   "cell_type": "code",
   "execution_count": null,
   "id": "4c40c30a",
   "metadata": {},
   "outputs": [],
   "source": []
  }
 ],
 "metadata": {
  "kernelspec": {
   "display_name": ".venv",
   "language": "python",
   "name": "python3"
  },
  "language_info": {
   "codemirror_mode": {
    "name": "ipython",
    "version": 3
   },
   "file_extension": ".py",
   "mimetype": "text/x-python",
   "name": "python",
   "nbconvert_exporter": "python",
   "pygments_lexer": "ipython3",
   "version": "3.10.10"
  }
 },
 "nbformat": 4,
 "nbformat_minor": 5
}
